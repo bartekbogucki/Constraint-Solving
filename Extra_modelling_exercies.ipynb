{
  "cells": [
    {
      "cell_type": "markdown",
      "metadata": {
        "collapsed": false,
        "id": "0vdLHf5a_ffn"
      },
      "source": [
        "# Extra Modelling Challanges"
      ]
    },
    {
      "cell_type": "markdown",
      "metadata": {
        "collapsed": false,
        "id": "G93xwXSp_ffo"
      },
      "source": [
        "In this session we will work on symmetry and dominance breaking"
      ]
    },
    {
      "cell_type": "code",
      "execution_count": 1,
      "metadata": {
        "id": "Sa4aRDqN_ffo",
        "colab": {
          "base_uri": "https://localhost:8080/"
        },
        "outputId": "822fd7a7-6509-4cb3-e6b4-e8d7d4eeeacd"
      },
      "outputs": [
        {
          "output_type": "stream",
          "name": "stdout",
          "text": [
            "\u001b[2K   \u001b[90m━━━━━━━━━━━━━━━━━━━━━━━━━━━━━━━━━━━━━━━━\u001b[0m \u001b[32m152.0/152.0 kB\u001b[0m \u001b[31m5.6 MB/s\u001b[0m eta \u001b[36m0:00:00\u001b[0m\n",
            "\u001b[2K   \u001b[90m━━━━━━━━━━━━━━━━━━━━━━━━━━━━━━━━━━━━━━━━\u001b[0m \u001b[32m28.1/28.1 MB\u001b[0m \u001b[31m61.1 MB/s\u001b[0m eta \u001b[36m0:00:00\u001b[0m\n",
            "\u001b[2K   \u001b[90m━━━━━━━━━━━━━━━━━━━━━━━━━━━━━━━━━━━━━━━━\u001b[0m \u001b[32m133.7/133.7 kB\u001b[0m \u001b[31m11.7 MB/s\u001b[0m eta \u001b[36m0:00:00\u001b[0m\n",
            "\u001b[2K   \u001b[90m━━━━━━━━━━━━━━━━━━━━━━━━━━━━━━━━━━━━━━━━\u001b[0m \u001b[32m302.8/302.8 kB\u001b[0m \u001b[31m23.9 MB/s\u001b[0m eta \u001b[36m0:00:00\u001b[0m\n",
            "\u001b[?25h\u001b[31mERROR: pip's dependency resolver does not currently take into account all the packages that are installed. This behaviour is the source of the following dependency conflicts.\n",
            "tensorflow 2.17.1 requires protobuf!=4.21.0,!=4.21.1,!=4.21.2,!=4.21.3,!=4.21.4,!=4.21.5,<5.0.0dev,>=3.20.3, but you have protobuf 5.26.1 which is incompatible.\n",
            "tensorflow-metadata 1.13.1 requires absl-py<2.0.0,>=0.9, but you have absl-py 2.1.0 which is incompatible.\n",
            "tensorflow-metadata 1.13.1 requires protobuf<5,>=3.20.3, but you have protobuf 5.26.1 which is incompatible.\u001b[0m\u001b[31m\n",
            "\u001b[0m"
          ]
        }
      ],
      "source": [
        "# Setup\n",
        "!pip install --upgrade cpmpy --quiet\n",
        "! pip install matplotlib --quiet\n",
        "import cpmpy as cp\n",
        "import numpy as np\n",
        "import matplotlib.pyplot as plt"
      ]
    },
    {
      "cell_type": "markdown",
      "source": [
        "**Cabling problem**\n",
        "Let's say, there are 8 devices, maybe servers, routers etc, named as A, B, C, D, E, F, G, H.\n",
        "Devices must be placed in a sequence, and consecutive devices must be connected by\n",
        "cables. Some devices must be connected by several cables (2 cables, 3 or 4):\n",
        "A <--- 1 cable ---> H\n",
        "A <--- 2 cables ---> E\n",
        "B <--- 4 cables ---> F\n",
        "C <--- 1 cable ---> G\n",
        "C <--- 1 cable ---> D\n",
        "C <--- 1 cable ---> E\n",
        "D <--- 3 cables ---> H\n",
        "G <--- 1 cable ---> H\n",
        "How we can place these 8 devices in such an order, so that sum of cables used would be as\n",
        "short as possible?"
      ],
      "metadata": {
        "id": "1OJhu4L6_7Er"
      }
    },
    {
      "cell_type": "code",
      "source": [
        "# Devices\n",
        "devices = [\"A\",\"B\",\"C\",\"D\",\"E\",\"F\",\"G\",\"H\"]\n",
        "\n",
        "# Weights: number of cables between pairs\n",
        "# We store them in a dictionary for convenience:\n",
        "cables = {\n",
        "    (\"A\",\"H\"): 1,\n",
        "    (\"A\",\"E\"): 2,\n",
        "    (\"B\",\"F\"): 4,\n",
        "    (\"C\",\"G\"): 1,\n",
        "    (\"C\",\"D\"): 1,\n",
        "    (\"C\",\"E\"): 1,\n",
        "    (\"D\",\"H\"): 3,\n",
        "    (\"G\",\"H\"): 1\n",
        "}\n",
        "\n",
        "# Create position variables: pos[X] in 0..7\n",
        "pos_var = { X: cp.intvar(0,7) for X in devices }\n",
        "\n",
        "model = cp.Model()\n",
        "\n",
        "# All different constraint\n",
        "model += cp.AllDifferent(pos_var.values())\n",
        "\n",
        "# Objective: sum of cable-distances\n",
        "\n",
        "total_cost=0\n",
        "for (x,y),w in cables.items():\n",
        "  total_cost += w*(abs(pos_var[x]-pos_var[y]))\n",
        "\n",
        "model.minimize(total_cost)\n",
        "\n",
        "# Solve\n",
        "if model.solve():\n",
        "    print(\"Solution found:\")\n",
        "    for device, position in pos_var.items():\n",
        "        print(f\"{device}: {position.value()}\")\n",
        "    print(f\"Total Cost: {total_cost.value()}\")\n",
        "else:\n",
        "    print(\"No solution found\")"
      ],
      "metadata": {
        "colab": {
          "base_uri": "https://localhost:8080/"
        },
        "id": "ejC7H762_4KO",
        "outputId": "46430ca5-e758-4270-f497-654e7571f047"
      },
      "execution_count": null,
      "outputs": [
        {
          "output_type": "stream",
          "name": "stdout",
          "text": [
            "Solution found:\n",
            "A: 7\n",
            "B: 0\n",
            "C: 3\n",
            "D: 4\n",
            "E: 6\n",
            "F: 1\n",
            "G: 2\n",
            "H: 5\n",
            "Total Cost: 19\n"
          ]
        }
      ]
    },
    {
      "cell_type": "markdown",
      "source": [
        "**Progressive Party Problem (PPP)**\n",
        "The problem is to timetable a party at a yacht club. Certain boats are to be designated hosts,\n",
        "and the crews of the remaining boats in turn visit the host boats for several successive halfhour\n",
        "periods. The crew of a host boat remains on board to act as hosts while the crew of a\n",
        "guest boat together visits several hosts. Every boat can only hold a limited number of people\n",
        "at a time (its capacity) and crew sizes are different. The total number of people aboard a\n",
        "boat, including the host crew and guest crews, must not exceed the capacity. A guest boat\n",
        "cannot not revisit a host and guest crews cannot meet more than once.\n",
        "The problem the rally organizer is facing is that of minimizing the number of host boats. Find\n",
        "the visit schedule and the host designations."
      ],
      "metadata": {
        "id": "oDHmShmJgJ9T"
      }
    },
    {
      "cell_type": "code",
      "source": [
        "schedule[4, :, :]"
      ],
      "metadata": {
        "colab": {
          "base_uri": "https://localhost:8080/"
        },
        "id": "uC22BKMqcfv4",
        "outputId": "04ba0956-72f5-483f-c36c-e52514b53e2e"
      },
      "execution_count": 106,
      "outputs": [
        {
          "output_type": "execute_result",
          "data": {
            "text/plain": [
              "array([[0, 0, 0, 0],\n",
              "       [0, 0, 0, 0],\n",
              "       [0, 0, 0, 0],\n",
              "       [0, 0, 0, 0],\n",
              "       [0, 0, 0, 0],\n",
              "       [0, 0, 0, 0],\n",
              "       [0, 0, 0, 0],\n",
              "       [0, 0, 0, 0],\n",
              "       [0, 0, 0, 0],\n",
              "       [0, 0, 0, 0]])"
            ]
          },
          "metadata": {},
          "execution_count": 106
        }
      ]
    },
    {
      "cell_type": "code",
      "source": [
        "#to be went through\n",
        "\n",
        "start_time = 10 # the party starts at 10am\n",
        "end_time = 12 # the party ends at 12am\n",
        "crew_size = cp.cpm_array([1, 2, 3, 4, 5, 6, 7, 8, 9, 10]) # number of people per crew\n",
        "boat_capacity = cp.cpm_array([10, 10, 15, 20, 5, 8, 15, 10, 10, 12]) # maximum number of people per boat\n",
        "\n",
        "T = 2 * (end_time - start_time) # each period lasts for 30min so there are 2 visits/hour\n",
        "N = len(boat_capacity) # total number of crews = total number of boat\n",
        "\n",
        "host = cp.boolvar(shape=N) # whether boat i is a host boat\n",
        "schedule = cp.boolvar(shape=(N, N, T)) # i, j, k represents whether boat i carry crew j at time k. i is a boat, j is a crew\n",
        "\n",
        "model = cp.Model()\n",
        "\n",
        "model += [boat.implies(cp.all(schedule[i, i, t] == 1 for t in range(T))) for i, boat in enumerate(host)] # if a boat is a host boat, then its crew stays on their boat for the full party # for boat 1 crew 1 is always there for every time\n",
        "model += [boat.implies(cp.sum(schedule[i, :, t] * crew_size) <= boat_capacity[i]) for t in range(T) for i, boat in enumerate(host)] # if a boat is a host boat, then the number of people on it per time period cannot exceed the capacity\n",
        "model += [cp.sum(schedule[:, n, t]) == 1 for t in range(T) for n in range(N)] # each crew should be in exactly one host boat per time period\n",
        "model += [(cp.sum(schedule[n, :, :]) > 0).implies(host[n]) for n in range(N)] # if a boat is used at some moment in time by some crew, then it must be a host boat\n",
        "\n",
        "for j in range(N):\n",
        "  for k in range(j):\n",
        "    model += [cp.sum(schedule[:, j, :] * schedule[:, k, :]) <= 1] # the crews j and k can meet at most once one the same boat at the same time\n",
        "\n",
        "model.minimize(cp.sum(host)) # minimise the total number of host boats\n",
        "\n",
        "if model.solve():\n",
        "  host_boats = np.where(host.value().astype(int) == 1)[0]\n",
        "  schedule = schedule.value().astype(int)\n",
        "\n",
        "  print(\"The host boats are:\")\n",
        "  for boat in host_boats:\n",
        "    print(\"  - Boat\", boat, \"(maximum capacity\", boat_capacity[boat], \") carries:\")\n",
        "    crews = schedule[boat, :, :]\n",
        "    results = {}\n",
        "    for i, time in enumerate(crews.T):\n",
        "      crew = np.where(time == 1)[0]\n",
        "      if len(crew) > 0:\n",
        "        print(\"    at \", f\"{int(10 + 0.5*i)}:{int(((10 + 0.5*i) * 60) % 60):02d}\", \": crew(s)\", \", \".join([str(c) for c in crew]), \"->\", \"+\".join([str(crew_size[c]) for c in crew]), \"=\", sum([crew_size[c] for c in crew]), \"people\")\n",
        "else:\n",
        "  print(\"No solution found.\")"
      ],
      "metadata": {
        "id": "oD4CKCHSgLDL",
        "colab": {
          "base_uri": "https://localhost:8080/"
        },
        "outputId": "d1eb90da-463e-40dc-c286-6711a3e94511"
      },
      "execution_count": 107,
      "outputs": [
        {
          "output_type": "stream",
          "name": "stdout",
          "text": [
            "The host boats are:\n",
            "  - Boat 1 (maximum capacity 10 ) carries:\n",
            "    at  10:00 : crew(s) 1 -> 2 = 2 people\n",
            "    at  10:30 : crew(s) 1, 5 -> 2+6 = 8 people\n",
            "    at  11:00 : crew(s) 1, 7 -> 2+8 = 10 people\n",
            "    at  11:30 : crew(s) 1, 4 -> 2+5 = 7 people\n",
            "  - Boat 2 (maximum capacity 15 ) carries:\n",
            "    at  10:00 : crew(s) 2, 7 -> 3+8 = 11 people\n",
            "    at  10:30 : crew(s) 2, 4 -> 3+5 = 8 people\n",
            "    at  11:00 : crew(s) 2, 5 -> 3+6 = 9 people\n",
            "    at  11:30 : crew(s) 0, 2 -> 1+3 = 4 people\n",
            "  - Boat 3 (maximum capacity 20 ) carries:\n",
            "    at  10:00 : crew(s) 3, 4 -> 4+5 = 9 people\n",
            "    at  10:30 : crew(s) 3, 7 -> 4+8 = 12 people\n",
            "    at  11:00 : crew(s) 3 -> 4 = 4 people\n",
            "    at  11:30 : crew(s) 3, 5 -> 4+6 = 10 people\n",
            "  - Boat 6 (maximum capacity 15 ) carries:\n",
            "    at  10:00 : crew(s) 5, 6 -> 6+7 = 13 people\n",
            "    at  10:30 : crew(s) 0, 6 -> 1+7 = 8 people\n",
            "    at  11:00 : crew(s) 4, 6 -> 5+7 = 12 people\n",
            "    at  11:30 : crew(s) 6, 7 -> 7+8 = 15 people\n",
            "  - Boat 8 (maximum capacity 10 ) carries:\n",
            "    at  10:00 : crew(s) 0, 8 -> 1+9 = 10 people\n",
            "    at  10:30 : crew(s) 8 -> 9 = 9 people\n",
            "    at  11:00 : crew(s) 8 -> 9 = 9 people\n",
            "    at  11:30 : crew(s) 8 -> 9 = 9 people\n",
            "  - Boat 9 (maximum capacity 12 ) carries:\n",
            "    at  10:00 : crew(s) 9 -> 10 = 10 people\n",
            "    at  10:30 : crew(s) 9 -> 10 = 10 people\n",
            "    at  11:00 : crew(s) 0, 9 -> 1+10 = 11 people\n",
            "    at  11:30 : crew(s) 9 -> 10 = 10 people\n"
          ]
        }
      ]
    },
    {
      "cell_type": "markdown",
      "source": [
        "**Devil's word**\n",
        "Given an array of integers, insert '+' or '-' operators before each integer in the array so that\n",
        "summing them up will result in 666. Given any array, find the correct signs to be used."
      ],
      "metadata": {
        "id": "qpvx64-HkrgI"
      }
    },
    {
      "cell_type": "code",
      "source": [
        "# An example array of integers. Replace with your own data:\n",
        "A = [666, 1, 1]\n",
        "\n",
        "n = len(A)\n",
        "take = cp.boolvar(shape=n)\n",
        "model  =cp.Model()\n",
        "\n",
        "model += sum((1-2*take[i])*A[i] for i in range(n))==666\n",
        "if model.solve():\n",
        "  print(\"Solution found\")\n",
        "  print(\"x:\", take.value())\n",
        "else:\n",
        "  print(\"No solution found\")"
      ],
      "metadata": {
        "colab": {
          "base_uri": "https://localhost:8080/"
        },
        "id": "UXNjRfb-e6lQ",
        "outputId": "4d802c1c-601b-4bda-d1a9-b0996fd1b8a7"
      },
      "execution_count": null,
      "outputs": [
        {
          "output_type": "stream",
          "name": "stdout",
          "text": [
            "Solution found\n",
            "x: [False False  True]\n"
          ]
        }
      ]
    },
    {
      "cell_type": "markdown",
      "source": [
        "**Warehouse Location problem**\n",
        "In the Warehouse Location problem, a company considers opening warehouses at some\n",
        "candidate locations in order to supply its existing stores. Each possible warehouse has the\n",
        "same maintenance cost, and a capacity designating the maximum number of stores that it\n",
        "can supply. Each store must be supplied by exactly one open warehouse. The supply cost to\n",
        "a store depends is different for each warehouse.\n",
        "A company is considering opening warehouses in four cities to meet regional demands at\n",
        "minimal costs. The potential cities for these warehouses are New York, Los Angeles,\n",
        "Chicago, and Atlanta. The company needs to decide which warehouses to open based on\n",
        "several constraints: 1. If the New York warehouse is opened, then the Los Angeles\n",
        "warehouse must also be opened. 2. No more than three warehouses can be operational. 3.\n",
        "Either the Atlanta or the Los Angeles warehouse must be opened.\n",
        "The objective is to determine the optimal set of warehouses to open, and which of these\n",
        "warehouses should supply the various stores, such that supply costs is minimized. Supply\n",
        "costs for each warehouse-store combination should be given."
      ],
      "metadata": {
        "id": "9sqivioqcaOP"
      }
    },
    {
      "cell_type": "code",
      "source": [
        "#NY:30, LA:50, CH:20, A:10\n",
        "Costs = [30, 50, 20, 10]\n",
        "take = cp.boolvar(shape=4)\n",
        "\n",
        "model=cp.Model()\n",
        "model+= (take[0]==1).implies(take[1]==1)\n",
        "model+= sum(take)<=3\n",
        "model+= (take[1]==1 or take[3]==1)\n",
        "\n",
        "model.minimize(sum(take*Costs))\n",
        "\n",
        "if model.solve():\n",
        "  print(\"Solution found\")\n",
        "  print(\"x:\", take.value())\n",
        "else:\n",
        "  print(\"No solution found\")\n"
      ],
      "metadata": {
        "colab": {
          "base_uri": "https://localhost:8080/"
        },
        "id": "04lK_fZHatji",
        "outputId": "401e25fc-2b8e-449a-dc48-8e0e4c6480af"
      },
      "execution_count": null,
      "outputs": [
        {
          "output_type": "stream",
          "name": "stdout",
          "text": [
            "Solution found\n",
            "x: [False  True False False]\n"
          ]
        }
      ]
    },
    {
      "cell_type": "markdown",
      "source": [
        "**Balanced Academic Curriculum Problem**\n",
        "The problem is to design a balanced academic curriculum by assigning periods to courses in\n",
        "a way that the academic load of each period is balanced, i.e., as similar as possible . The\n",
        "curriculum must obey the following administrative and academic regulations:\n",
        "\n",
        "\n",
        "*   Academic curriculum: an academic curriculum is defined by a set of courses and a set of prerequisite relationships among them.\n",
        "*   Number of periods: courses must be assigned within a maximum number of academic periods.\n",
        "*   Academic load: each course has associated a number of credits or units that\n",
        "represent the academic effort required to successfully follow it.\n",
        "*   Prerequisites: some courses can have other courses as prerequisites.\n",
        "*   Minimum academic load: a minimum number of academic credits per period is\n",
        "required to consider a student as full time.\n",
        "*   Maximum academic load: a maximum number of academic credits per period is\n",
        "allowed in order to avoid overload.\n",
        "*   Minimum number of courses: a minimum number of courses per period is required to\n",
        "consider a student as full time.\n",
        "*   Maximum number of courses: a maximum number of courses per period is allowed in order to avoid overload.\n",
        "\n",
        "The goal is to assign a period to every course in a way that the minimum and maximum\n",
        "academic load for each period, the minimum and maximum number of courses for each\n",
        "period, and the prerequisite relationships are satisfied. An optimal balanced curriculum\n",
        "minimises the maximum academic load for all periods."
      ],
      "metadata": {
        "id": "oL2FNOui-3Us"
      }
    },
    {
      "cell_type": "code",
      "source": [
        "# Input Data\n",
        "courses = [\"C1\", \"C2\", \"C3\", \"C4\", \"C5\"]  # Example courses\n",
        "credits = [3, 2, 4, 3, 5]  # Corresponding credits\n",
        "prerequisites = [(0, 2), (1, 3)]  # C1 before C3, C2 before C4\n",
        "P = 3  # Number of periods\n",
        "min_load, max_load = 4, 8  # Min and max academic load per period\n",
        "min_courses, max_courses = 1, 3  # Min and max courses per period\n",
        "\n",
        "# Decision Variables\n",
        "X = cp.boolvar(shape=(P, len(courses)))\n",
        "\n",
        "model=cp.Model()\n",
        "\n",
        "# Each course exactly once\n",
        "for c in range(len(courses)):\n",
        "  model+=cp.sum(X[:,c]) == 1\n",
        "\n",
        "# Min and max courses per period\n",
        "for p in range(P):\n",
        "  model+=(max_courses>=cp.sum(X[p])>=min_courses)\n",
        "\n",
        "# Min and max academic load per period\n",
        "for p in range(P):\n",
        "  model+=(max_courses>=cp.sum(X[p]*credits)>=min_load)\n",
        "\n",
        "# C1 before C3, C2 before C4 - to improve\n",
        "model+= X[0][2] < X[0][0] | X[1][2] < X[1][0]\n",
        "model+= X[0][3] < X[0][1] | X[1][3] < X[1][1]\n",
        "\n",
        "model.minimize(cp.max(cp.sum(X[p]*credits) for p in range(P)))\n",
        "\n",
        "if model.solve():\n",
        "  print(\"Solution found\")\n",
        "  print(\"X:\", X.value())\n",
        "else:\n",
        "  print(\"No solution found\")\n"
      ],
      "metadata": {
        "id": "7xavcfq6_CZQ",
        "colab": {
          "base_uri": "https://localhost:8080/"
        },
        "outputId": "2034ee3c-c1fe-44f9-8ac4-e616e0024b20"
      },
      "execution_count": 32,
      "outputs": [
        {
          "output_type": "stream",
          "name": "stdout",
          "text": [
            "Solution found\n",
            "X: [[False False  True  True False]\n",
            " [ True  True False False False]\n",
            " [False False False False  True]]\n"
          ]
        }
      ]
    },
    {
      "cell_type": "markdown",
      "source": [
        "**Traffic lights**\n",
        "Consider a four way traffic junction with eight traffic lights. Four of the traffic lights are for the\n",
        "vehicles and can be represented by the variables V1 to V4 with domains {r,g,y} (for red, green and yellow). The other four traffic lights are for the pedestrians and can be\n",
        "represented by the variables P1 to P4 with domains {r,g}.\n",
        "Model the problem and find all solutions such that no collisions occur, and the amount of\n",
        "green lights is maximized."
      ],
      "metadata": {
        "id": "8e6WA-0fu_lB"
      }
    },
    {
      "cell_type": "code",
      "source": [
        "car_lights = [\"r\", \"g\", \"y\"]\n",
        "ped_lights = [\"r\", \"g\"]\n",
        "\n",
        "V = cp.boolvar(shape=(4, 3))  # 4 vehicle lights, 3 states each\n",
        "P = cp.boolvar(shape=(4, 2))  # 4 pedestrian lights, 2 states each\n",
        "\n",
        "model = cp.Model()\n",
        "\n",
        "# Ensure one and only one state is active for each light\n",
        "for i in range(4):\n",
        "    model += (sum(V[i]) == 1)\n",
        "    model += (sum(P[i]) == 1)\n",
        "\n",
        "for i in range(4):\n",
        "  model += V[i][1]!=P[i][1] #no green light for pederastian same as for cars\n",
        "  model += V[i][1]!=P[(i+2) % 4][1] #no green light for pederastian same as opposing for cars\n",
        "  model += V[i][1]!=V[(i+1) % 4][1] #no green light for light next to each other\n",
        "\n",
        "model.maximize(sum(V[i][1] for i in range(4)) + sum(P[i][1] for i in range(4))) # Maximize greens\n",
        "\n",
        "if model.solve():\n",
        "  print(\"Solution found\")\n",
        "  print(\"V:\", V.value())\n",
        "  print(\"P:\", P.value())\n",
        "else:\n",
        "  print(\"No solution found\")"
      ],
      "metadata": {
        "colab": {
          "base_uri": "https://localhost:8080/"
        },
        "id": "heMPFYUJvBKo",
        "outputId": "9f4608a8-cbb1-4ea0-fa24-9f140f5ba801"
      },
      "execution_count": null,
      "outputs": [
        {
          "output_type": "stream",
          "name": "stdout",
          "text": [
            "Solution found\n",
            "V: [[ True False False]\n",
            " [False  True False]\n",
            " [ True False False]\n",
            " [False  True False]]\n",
            "P: [[False  True]\n",
            " [ True False]\n",
            " [False  True]\n",
            " [ True False]]\n"
          ]
        }
      ]
    },
    {
      "cell_type": "markdown",
      "source": [
        "**Job-shop scheduling** We need to schedule the processing of the tasks from different jobs in several machines.\n",
        "Each task is labeled by a pair of numbers (m, p) where m is the number of the machine the\n",
        "task must be processed on and p is the processing time of the task\n",
        "In the given example, we have three jobs\n",
        "job 0 = [(0, 3), (1, 2), (2, 2)]\n",
        "job 1 = [(0, 2), (2, 1), (1, 4)]\n",
        "job 2 = [(1, 4), (2, 3)]\n",
        "For example, job 0 has three tasks. The first, (0, 3), must be processed on machine 0 in 3\n",
        "units of time\n",
        "There are two types of constraints for the job shop problem\n",
        "1. Precedence constraint: for any two consecutive tasks in the same job,\n",
        "the first must be completed before the second can be started.\n",
        "2. No overlap constraints: a machine can't work on two tasks at the same time\n",
        "\n",
        "The objective of the job shop problem is to minimize the makespan: the length of time from\n",
        "the earliest start time of the jobs to the latest end time."
      ],
      "metadata": {
        "id": "GAIs7fJ9jr0m"
      }
    },
    {
      "cell_type": "code",
      "source": [
        "jobs = [[(0, 3), (1, 2), (2, 2)], [(0, 2), (2, 1), (1, 4)], [(0, 0), (1, 2), (2, 3)]]\n",
        "\n",
        "num_jobs = 3\n",
        "num_tasks = 3\n",
        "num_machines = 3\n",
        "max_times=0\n",
        "times=[]\n",
        "for job in jobs:\n",
        "  for task in job:\n",
        "    max_times+=task[1]\n",
        "    times.append(task[1])\n",
        "\n",
        "# Variables\n",
        "start_time = cp.intvar(0, max_times, shape = (3,3))\n",
        "end_times = start_time + cp.cpm_array(times).reshape(3, 3)\n",
        "\n",
        "model = cp.Model()\n",
        "\n",
        "# Precedence constraints\n",
        "for j in range(num_jobs):\n",
        "  for i in range(len(jobs[j]) - 1):\n",
        "    model += end_times[j, i] <= start_time[j, i + 1]\n",
        "\n",
        "# No-overlap constraints\n",
        "for i in range(num_jobs):\n",
        "  for m in range(i+1, num_jobs):\n",
        "    for j in range(num_tasks):\n",
        "      for k in range(num_tasks):\n",
        "        if jobs[i][j][0]==jobs[m][k][0]: # Same machine:\n",
        "          model += ((end_times[i, j] <= start_time[m, k]) | (start_time[i, j] >= end_times[m, k]))\n",
        "\n",
        "#Objective\n",
        "model.minimize(cp.max(end_times))\n",
        "\n",
        "if model.solve():\n",
        "  print(\"Solution found\")\n",
        "  print(\"makespan:\", (cp.max(end_times)-cp.min(start_time)).value())\n",
        "  print(\"start_time:\", start_time.value())\n",
        "else:\n",
        "  print(\"No solution found\")"
      ],
      "metadata": {
        "id": "6b8cs-D-jwa0",
        "colab": {
          "base_uri": "https://localhost:8080/"
        },
        "outputId": "19ab4e23-8e5b-4e4d-b01c-1c3d7ff04550"
      },
      "execution_count": 102,
      "outputs": [
        {
          "output_type": "stream",
          "name": "stdout",
          "text": [
            "Solution found\n",
            "makespan: 10\n",
            "start_time: [[0 3 6]\n",
            " [3 5 6]\n",
            " [0 0 2]]\n"
          ]
        }
      ]
    },
    {
      "cell_type": "markdown",
      "source": [
        "**Social golfers**\n",
        "\n",
        "The coordinator of a local golf club has come to you with the following problem. In their club,\n",
        "there are 32 social golfers, each of whom play golf once a week, and always in groups of 4.\n",
        "They would like you to come up with a schedule of play for these golfers, to last as many\n",
        "weeks as possible, such that no golfer plays in the same group as any other golfer on more\n",
        "than one occasion. Possible variants of the above problem include: finding a 10-week\n",
        "schedule with “maximum socialisation”; that is, as few repeated pairs as possible (this has\n",
        "the same solutions as the original problem if it is possible to have no repeated pairs), and\n",
        "finding a schedule of minimum length such that each golfer plays with every other golfer at\n",
        "least once (“full socialisation”). The problem can easily be generalized to that of scheduling\n",
        "m groups of n golfers over p weeks, such that no golfer plays in the same group as any\n",
        "other golfer twice (i.e. maximum socialisation is achieved)."
      ],
      "metadata": {
        "id": "3awyx4vGH0dy"
      }
    },
    {
      "cell_type": "code",
      "source": [
        "p=10\n",
        "n=32\n",
        "groups=cp.intvar(1,32, shape=(10,8,4))\n",
        "\n",
        "model=cp.Model()\n",
        "\n",
        "for i in range(10):\n",
        "  model+=cp.AllDifferent(groups[i])\n",
        "\n",
        "seen_pairs = set()\n",
        "for w in range(p):\n",
        "    for g in range(8):\n",
        "        for i in range(4):\n",
        "            for j in range(i + 1, 4):\n",
        "                golfer_1 = groups[w, g, i]\n",
        "                golfer_2 = groups[w, g, j]\n",
        "                pair = (cp.min(golfer_1, golfer_2), cp.max(golfer_1, golfer_2)) #symmetry\n",
        "                if pair not in seen_pairs:\n",
        "                    seen_pairs.add(pair)\n",
        "                else:\n",
        "                    model += (pair not in seen_pairs)\n",
        "\n",
        "if model.solve():\n",
        "  print(\"Solution found\")\n",
        "  print(\"groups:\", groups.value())\n",
        "else:\n",
        "  print(\"No solution found\")"
      ],
      "metadata": {
        "colab": {
          "base_uri": "https://localhost:8080/"
        },
        "id": "6CpB6q83H18g",
        "outputId": "e49601e8-b834-490e-e668-7c4ec5cd596d"
      },
      "execution_count": null,
      "outputs": [
        {
          "output_type": "stream",
          "name": "stdout",
          "text": [
            "Solution found\n",
            "groups: [[[ 6  4 32 15]\n",
            "  [ 9  8  3 17]\n",
            "  [19 26 24 29]\n",
            "  [12 10  2  7]\n",
            "  [31  5 16 22]\n",
            "  [30 20 21  1]\n",
            "  [11 18 25 27]\n",
            "  [14 28 23 13]]\n",
            "\n",
            " [[28 14  4 12]\n",
            "  [19 17  7 26]\n",
            "  [21  2 27 22]\n",
            "  [13  3 32 24]\n",
            "  [31  8 23 10]\n",
            "  [16 18 30 29]\n",
            "  [ 9 25  5  6]\n",
            "  [ 1 20 11 15]]\n",
            "\n",
            " [[ 8 25 28 17]\n",
            "  [22 10 15  9]\n",
            "  [24 30 21 12]\n",
            "  [ 2 20  6 27]\n",
            "  [16 11  7 26]\n",
            "  [31  5  4  1]\n",
            "  [23 18  3 14]\n",
            "  [13 32 29 19]]\n",
            "\n",
            " [[24 13 27 10]\n",
            "  [12 32  7 15]\n",
            "  [ 9  1  6 18]\n",
            "  [29 23 30  5]\n",
            "  [ 8 19 21 25]\n",
            "  [28 14 22 11]\n",
            "  [20 17 31  2]\n",
            "  [16  4 26  3]]\n",
            "\n",
            " [[18 17 23 29]\n",
            "  [24  3 15 16]\n",
            "  [22 20 12 26]\n",
            "  [27 10  5 25]\n",
            "  [28 19 21  1]\n",
            "  [ 4 11  2  6]\n",
            "  [14  7  8 31]\n",
            "  [32 13  9 30]]\n",
            "\n",
            " [[13  8 18 15]\n",
            "  [31 11 20 14]\n",
            "  [ 7 21  1 10]\n",
            "  [ 9 24 26 25]\n",
            "  [32 22 29 30]\n",
            "  [19 28 23 17]\n",
            "  [ 2  4 27 16]\n",
            "  [12  6  3  5]]\n",
            "\n",
            " [[28 19 10 13]\n",
            "  [16 23 24  3]\n",
            "  [20 30 29  1]\n",
            "  [12  4  5 11]\n",
            "  [ 6 32 25  7]\n",
            "  [ 9 21 26 17]\n",
            "  [15 18 14 27]\n",
            "  [22 31  8  2]]\n",
            "\n",
            " [[ 1 30 29 32]\n",
            "  [28 27 26 25]\n",
            "  [24 22 23 21]\n",
            "  [20 18 19 16]\n",
            "  [15 17 13 14]\n",
            "  [11 10 12  9]\n",
            "  [ 8  7  5  4]\n",
            "  [ 3  2  6 31]]\n",
            "\n",
            " [[ 1 32 29 28]\n",
            "  [27 26 30 24]\n",
            "  [25 23 22 20]\n",
            "  [21 18 19 16]\n",
            "  [15 14 13 12]\n",
            "  [17 10 11  9]\n",
            "  [ 7  8  5  6]\n",
            "  [ 3  2  4 31]]\n",
            "\n",
            " [[32 31 30 29]\n",
            "  [28 27 26 25]\n",
            "  [24 23 22 21]\n",
            "  [20 19 18 17]\n",
            "  [16 15 14 13]\n",
            "  [12 11 10  9]\n",
            "  [ 8  7  6  5]\n",
            "  [ 4  3  2  1]]]\n"
          ]
        }
      ]
    },
    {
      "cell_type": "markdown",
      "source": [
        "**Balanced nurse assignment**\n",
        "\n",
        "Given a set of patients distributed in a number of hospital zones and an available nursing\n",
        "staff, one must assign a nurse to each patient in such a way that the work is distributed\n",
        "evenly between nurses. Each patient is assigned an acuity level corresponding to the\n",
        "amount of care he requires; the workload of a nurse is defined as the sum of the acuities of\n",
        "the patients he cares for. A nurse can only work in one zone and there are restrictions both\n",
        "on the number of patients assigned to a nurse and on the corresponding workload. We\n",
        "balance the workloads by minimizing their standard deviation.\n",
        "This problem has two connected aspects: nurses need to be assigned to zones and then\n",
        "patients of that zone have to be assigned to nurses."
      ],
      "metadata": {
        "id": "FCWxmJIfDqGH"
      }
    },
    {
      "cell_type": "code",
      "source": [
        "# Data\n",
        "nurses = [\"N1\", \"N2\", \"N3\", \"N4\"]\n",
        "patients = [\"P1\", \"P2\", \"P3\", \"P4\", \"P5\", \"P6\"]\n",
        "zones = [\"A1\", \"A2\", \"A3\"]\n",
        "acuity_lev = [2, 3, 4, 5, 2, 1]\n",
        "max_patients = 2\n",
        "min_patients = 1\n",
        "max_workload = 8\n",
        "min_workload = 1\n",
        "zone_max = 2\n",
        "\n",
        "# Decision Variables\n",
        "x = cp.boolvar((len(nurses), len(patients)))  # x[i][j] = 1 if nurse i handles patient j\n",
        "y = cp.boolvar((len(nurses), len(zones)))  # y[i][z] = 1 if nurse i is assigned to zone z\n",
        "\n",
        "# Model\n",
        "model = cp.Model()\n",
        "\n",
        "# 1. Each nurse is assigned to exactly one zone\n",
        "for n in range(len(nurses)):\n",
        "  model += (cp.sum(y[n, :]) == 1)\n",
        "\n",
        "# 2. Nurses capacity\n",
        "for n in range(len(nurses)):\n",
        "    model += (min_patients <= cp.sum(x[n, :]))  # Enforce lower bound\n",
        "    model += (cp.sum(x[n, :]) <= max_patients)  # Enforce upper bound\n",
        "\n",
        "for n in range(len(nurses)):\n",
        "    model += (min_workload <= cp.sum(x[n, :]*acuity_lev))  # Enforce lower bound\n",
        "    model += (cp.sum(x[n, :]*acuity_lev) <= max_workload)  # Enforce upper bound\n",
        "\n",
        "# 3. Each patient is taken care of\n",
        "for p in range(len(patients)):\n",
        "  model += (cp.sum(x[:, p]) == 1)\n",
        "\n",
        "# 4. Zone has its capacity\n",
        "for z in range(len(zones)):\n",
        "  model += (cp.sum(y[:, z]) <= zone_max)\n",
        "\n",
        "# Objective:\n",
        "mean=sum(acuity_lev) #Instead of mean to not have floting point we multiply be len(nurses), also when substracting\n",
        "model.minimize(cp.sum((cp.sum(x[n, :]*acuity_lev*len(nurses))-mean)**2 for n in range(len(nurses))))\n",
        "\n",
        "# Solve the model\n",
        "if model.solve():\n",
        "    print(\"Solution found:\")\n",
        "    print(\"Nurse assignments to zones and patients:\")\n",
        "    print(x.value())\n",
        "    print(\"Patient assignments to zones:\")\n",
        "    print(y.value())\n",
        "else:\n",
        "    print(\"No solution found\")\n"
      ],
      "metadata": {
        "colab": {
          "base_uri": "https://localhost:8080/"
        },
        "id": "n_6FXITOD0Rh",
        "outputId": "06abd78b-77a2-4f41-c719-87c3c5565a7f"
      },
      "execution_count": 144,
      "outputs": [
        {
          "output_type": "stream",
          "name": "stdout",
          "text": [
            "Solution found:\n",
            "Nurse assignments to zones and patients:\n",
            "[[False False  True False False False]\n",
            " [False  True False False False  True]\n",
            " [ True False False False  True False]\n",
            " [False False False  True False False]]\n",
            "Patient assignments to zones:\n",
            "[[False False  True]\n",
            " [False  True False]\n",
            " [ True False False]\n",
            " [False  True False]]\n"
          ]
        }
      ]
    },
    {
      "cell_type": "markdown",
      "source": [
        "**Maximal independent sets**\n",
        "In graph theory, an independent set is a set of vertices in a graph, no two of which are\n",
        "adjacent. A maximal independent set is an independent set that is not a subset of any other\n",
        "independent set. A graph may have many maximal independent sets of widely varying sizes:\n",
        "find a maximal independent set for any given graph. The data provided should use an array\n",
        "containing, for each node of the graph, the set of adjacent nodes."
      ],
      "metadata": {
        "id": "7Wsdryl9jFbF"
      }
    },
    {
      "cell_type": "code",
      "source": [
        "edges = [(1,2), (2,3), (2,4)]\n",
        "\n",
        "X = cp.boolvar(shape=4)\n",
        "\n",
        "model = cp.Model()\n",
        "\n",
        "for x1, x2 in edges:\n",
        "    #model += (X[x1-1] + X[x2-1] <= 1)\n",
        "    model += (X[x1-1] != 1) | (X[x2-1] != 1)\n",
        "\n",
        "model.maximize(cp.sum(X))\n",
        "\n",
        "if model.solve():\n",
        "  print(\"Solution found\")\n",
        "  print(\"X:\", X.value())\n",
        "else:\n",
        "  print(\"No solution found\")"
      ],
      "metadata": {
        "id": "Pf2xHU1OjHOz",
        "colab": {
          "base_uri": "https://localhost:8080/"
        },
        "outputId": "f44f4975-55ef-48a3-ebd7-7f73d0ba1bb0"
      },
      "execution_count": 96,
      "outputs": [
        {
          "output_type": "stream",
          "name": "stdout",
          "text": [
            "Solution found\n",
            "X: [ True False  True  True]\n"
          ]
        }
      ]
    },
    {
      "cell_type": "markdown",
      "source": [
        "**Resource-Constrained Project Scheduling Problem**\n",
        "\n",
        "\n",
        "The resource-constrained project scheduling problem involves scheduling a set of jobs, each\n",
        "with a specific duration and resource requirement, such that the total project duration\n",
        "(makespan) is minimized. Each job may have precedence constraints, meaning certain jobs\n",
        "must be completed before others can start. Additionally, there are multiple types of\n",
        "resources, each with a limited capacity that must not be exceeded at any time.\n",
        "Given the durations of the jobs, their resource requirements, the capacities of the resources,\n",
        "and the precedence constraints between the jobs, determine the start times of the jobs that\n",
        "minimize the makespan while satisfying all constraints."
      ],
      "metadata": {
        "id": "Z-tJXAU2kZaS"
      }
    },
    {
      "cell_type": "code",
      "source": [
        "#to check\n",
        "\n",
        "# Data\n",
        "projects = [\"P1\", \"P2\", \"P3\", \"P4\"]\n",
        "resources = [\"R1\", \"R2\"]\n",
        "p_resources = [1, 2, 1, 2, 1, 1]  # Resource required by each project\n",
        "times = [2, 3, 5, 8, 3, 5]        # Duration of each project\n",
        "capacity = [2,2]           # Resource capacity for each resource\n",
        "\n",
        "precedence_constraints = [\n",
        "    (0, 2),  # P1 (index 0) must finish before P3 (index 2)\n",
        "]\n",
        "\n",
        "# Variables\n",
        "starttimes = cp.intvar(0, sum(times), shape=len(p_resources))  # Start time for each project\n",
        "finishtimes = starttimes + times\n",
        "\n",
        "# Model\n",
        "model = cp.Model()\n",
        "\n",
        "# 1. Precedence Constraints\n",
        "for p1, p2 in precedence_constraints:\n",
        "  model += finishtimes[p1]<finishtimes[p2]\n",
        "\n",
        "# 2. Resource constraints\n",
        "for r in range(len(resources)):  # Iterate over each resource\n",
        "    for t in range(sum(times)):  # Iterate over each time point\n",
        "        # At time `t`, the total usage of resource `r` by all projects must not exceed its capacity\n",
        "        model += (\n",
        "            cp.sum(\n",
        "                [\n",
        "                    (p_resources[p] == r+1) & (starttimes[p] <= t) & (t < finishtimes[p])\n",
        "                    for p in range(len(projects))  # Check all projects\n",
        "                ]\n",
        "            ) <= capacity[r]  # Enforce resource capacity constraint\n",
        "        )\n",
        "# Objective: Minimize the makespan\n",
        "model.minimize(cp.max(finishtimes))\n",
        "\n",
        "# Solve the model\n",
        "if model.solve():\n",
        "    print(\"Solution found:\")\n",
        "    print(\"Start times:\", starttimes.value())\n",
        "    print(\"Finish times:\", finishtimes.value())\n",
        "    print(\"Makespan:\", max(finishtimes.value()))\n",
        "else:\n",
        "    print(\"No solution found.\")"
      ],
      "metadata": {
        "colab": {
          "base_uri": "https://localhost:8080/"
        },
        "id": "Xp4ReF98rKRJ",
        "outputId": "83fed1f2-f8cc-4ab5-a47a-1867129d1f4e"
      },
      "execution_count": 117,
      "outputs": [
        {
          "output_type": "stream",
          "name": "stdout",
          "text": [
            "Solution found:\n",
            "Start times: [4 4 3 0 0 0]\n",
            "Finish times: [6 7 8 8 3 5]\n",
            "Makespan: 8\n"
          ]
        }
      ]
    },
    {
      "cell_type": "markdown",
      "source": [
        "**Disjoint Subsets**\n",
        "Out of the set of integers 1,...,100 you are given ten different integers (e.g. [81 21 79 4 29 70\n",
        "28 20 14 7]). From this set A of ten integers you can always find two disjoint non-empty\n",
        "subsets, S and T, such that the sum of elements in S equals the sum of elements in T. Note:\n",
        "S union T does not need to be all ten elements of A. Find sets S and T for the given set A."
      ],
      "metadata": {
        "id": "1_BRwWJigj4a"
      }
    },
    {
      "cell_type": "code",
      "source": [
        "A = [81, 81]\n",
        "\n",
        "S = cp.boolvar(shape=len(A))\n",
        "T = cp.boolvar(shape=len(A))\n",
        "\n",
        "model = cp.Model()\n",
        "\n",
        "model += sum(S*A)==sum(T*A)\n",
        "model += sum(S)>0\n",
        "model += sum(S)<len(A)\n",
        "model += sum(T)>0\n",
        "model += sum(T)<len(A)\n",
        "model += S != T\n",
        "\n",
        "if model.solve():\n",
        "  print(\"Solution found\")\n",
        "  print(\"S:\", S.value())\n",
        "  print(\"T:\", T.value())\n",
        "else:\n",
        "  print(\"No solution found\")"
      ],
      "metadata": {
        "colab": {
          "base_uri": "https://localhost:8080/"
        },
        "id": "um2czAKXMZ8h",
        "outputId": "1a6e6410-e1f7-42b6-9ddf-3b6c51018e8c"
      },
      "execution_count": null,
      "outputs": [
        {
          "output_type": "stream",
          "name": "stdout",
          "text": [
            "Solution found\n",
            "S: [False  True]\n",
            "T: [ True False]\n"
          ]
        }
      ]
    },
    {
      "cell_type": "markdown",
      "source": [
        "**Beer packs**\n",
        "\n",
        "Given a target number of beers, find the closest combination of 7-packs and 13-packs that\n",
        "meets or exceeds the target."
      ],
      "metadata": {
        "id": "FeEqCLvAtnXh"
      }
    },
    {
      "cell_type": "code",
      "source": [
        "import math\n",
        "target=70\n",
        "take=cp.intvar(0, math.floor(target/7), shape=2)\n",
        "model = cp.Model()\n",
        "model += take[0] *7 + take[1] *13>=target\n",
        "#model.minimize(sum(take))\n",
        "model.minimize(take[0] *7 + take[1] *13)\n",
        "if model.solve():\n",
        "  print(\"Solution found\")\n",
        "  print(\"x:\", take.value())\n",
        "else:\n",
        "  print(\"No solution found\")"
      ],
      "metadata": {
        "colab": {
          "base_uri": "https://localhost:8080/"
        },
        "id": "um8DSPwltnhI",
        "outputId": "20a99be3-4d1a-4db2-8c5c-8a6c99cc8a02"
      },
      "execution_count": null,
      "outputs": [
        {
          "output_type": "stream",
          "name": "stdout",
          "text": [
            "Solution found\n",
            "x: [10  0]\n"
          ]
        }
      ]
    },
    {
      "cell_type": "markdown",
      "source": [
        "**Agatha murder**\n",
        "Someone in Dreadsbury Mansion killed Aunt Agatha. Agatha, the butler, and Charles live in\n",
        "Dreadsbury Mansion, and are the only ones to live there. A killer always hates, and is\n",
        "no richer than his victim. Charles hates noone that Agatha hates. Agatha hates everybody\n",
        "except the butler. The butler hates everyone not richer than Aunt Agatha. The butler hates\n",
        "everyone whom Agatha hates. Noone hates everyone. Who killed Agatha?"
      ],
      "metadata": {
        "id": "EYfcJn-Qwc1O"
      }
    },
    {
      "cell_type": "code",
      "source": [
        "# Decision Variables for each suspect representing if they are guilty\n",
        "# Define decision variables for \"hates\" and \"richer\"\n",
        "hates = cp.boolvar(shape=(3, 3))\n",
        "richer = cp.boolvar(shape=(3, 3))\n",
        "\n",
        "# Create the model\n",
        "model = cp.Model()\n",
        "\n",
        "# Add the constraints based on the problem statement\n",
        "model += hates[0, 0] == 1  # Agatha hates herself\n",
        "model += hates[0, 1] == 0  # Agatha does not hate the butler\n",
        "model += hates[0, 2] == 1  # Agatha hates Charles\n",
        "\n",
        "model += hates[2, 0] != 1  # Charles does not hate Agatha\n",
        "model += hates[2, 2] != 1  # Charles does not hate himself\n",
        "\n",
        "model += hates[1, 0] == 1  # The butler hates Agatha\n",
        "model += hates[1, 1] == 0  # The butler does not hate himself\n",
        "model += hates[1, 2] == 1  # The butler hates Charles\n",
        "\n",
        "model += richer[0, 0] == 0  # Agatha is not richer than herself\n",
        "model += richer[0, 2] == 0  # Agatha is not richer than Charles\n",
        "\n",
        "# Solve the model\n",
        "model.solve()\n",
        "\n",
        "# Extract results\n",
        "hates_result = hates.value()\n",
        "richer_result = richer.value()\n",
        "\n",
        "print(\"Hates Matrix:\\n\", hates_result)\n",
        "print(\"Richer Matrix:\\n\", richer_result)"
      ],
      "metadata": {
        "colab": {
          "base_uri": "https://localhost:8080/"
        },
        "id": "xqSpxI4fwf5j",
        "outputId": "a148a7f5-fceb-4fc0-ce56-417dc22686fc"
      },
      "execution_count": 147,
      "outputs": [
        {
          "output_type": "stream",
          "name": "stdout",
          "text": [
            "Hates Matrix:\n",
            " [[True False True]\n",
            " [True False True]\n",
            " [False None False]]\n",
            "Richer Matrix:\n",
            " [[False None False]\n",
            " [None None None]\n",
            " [None None None]]\n"
          ]
        }
      ]
    },
    {
      "cell_type": "code",
      "source": [
        "# Variables: 1 if a person killed Agatha, 0 otherwise\n",
        "agatha_killed = cp.boolvar(name=\"agatha_killed\")\n",
        "butler_killed = cp.boolvar(name=\"butler_killed\")\n",
        "charles_killed = cp.boolvar(name=\"charles_killed\")\n",
        "\n",
        "# Variables for who hates whom: 1 if hates, 0 otherwise\n",
        "agatha_hates_agatha = cp.boolvar(name=\"agatha_hates_agata\")\n",
        "agatha_hates_butler = cp.boolvar(name=\"agatha_hates_butler\")\n",
        "agatha_hates_charles = cp.boolvar(name=\"agatha_hates_charles\")\n",
        "butler_hates_butler = cp.boolvar(name=\"butler_hates_butler\")\n",
        "butler_hates_agatha = cp.boolvar(name=\"butler_hates_agatha\")\n",
        "butler_hates_charles = cp.boolvar(name=\"butler_hates_charles\")\n",
        "charles_hates_charles = cp.boolvar(name=\"charles_hates_charles\")\n",
        "charles_hates_agatha = cp.boolvar(name=\"charles_hates_agatha\")\n",
        "charles_hates_butler = cp.boolvar(name=\"charles_hates_butler\")\n",
        "\n",
        "# Variables for wealth comparison: 1 if richer, 0 otherwise\n",
        "butler_richer_than_agatha = cp.boolvar(name=\"butler_richer_than_agatha\")\n",
        "charles_richer_than_agatha = cp.boolvar(name=\"charles_richer_than_agatha\")\n",
        "\n",
        "# Create model\n",
        "model = cp.Model()\n",
        "\n",
        "# 1. Someone in the mansion killed Agatha\n",
        "model += (agatha_killed + butler_killed + charles_killed == 1)\n",
        "\n",
        "# 2. A killer always hates and is no richer than their victim\n",
        "model += (agatha_hates_agatha).implies(agatha_killed)\n",
        "model += (butler_hates_agatha & ~butler_richer_than_agatha).implies(butler_killed)\n",
        "model += (charles_hates_agatha & ~charles_richer_than_agatha).implies(charles_killed)\n",
        "\n",
        "# 3. Charles hates no one Agatha hates\n",
        "model += agatha_hates_agatha.implies(~butler_hates_agatha)\n",
        "model += agatha_hates_butler.implies(~butler_hates_butler)\n",
        "model += agatha_hates_charles.implies(~butler_hates_charles)\n",
        "\n",
        "# 4. Agatha hates everybody except the butler\n",
        "model += (agatha_hates_agatha == 1)\n",
        "model += (agatha_hates_butler == 0)\n",
        "model += (agatha_hates_charles == 1)\n",
        "\n",
        "# 5. The butler hates everyone not richer than Aunt Agatha\n",
        "model += (butler_hates_agatha == 0)\n",
        "model += ~butler_richer_than_agatha.implies(butler_hates_butler)\n",
        "model += ~charles_richer_than_agatha.implies(butler_hates_charles)\n",
        "\n",
        "# 6. The butler hates everyone Agatha hates\n",
        "model += agatha_hates_agatha.implies(charles_hates_agatha)\n",
        "model += agatha_hates_butler.implies(charles_hates_butler)\n",
        "model += agatha_hates_charles.implies(charles_hates_charles)\n",
        "\n",
        "# 7. No one hates everyone\n",
        "model += (agatha_hates_butler + agatha_hates_charles + agatha_hates_agatha< 3)\n",
        "model += (butler_hates_agatha + butler_hates_charles + butler_hates_butler< 3)\n",
        "model += (charles_hates_agatha + charles_hates_butler + charles_hates_charles< 3)\n",
        "\n",
        "\n",
        "if model.solve():\n",
        "  print(\"Solution found\")\n",
        "  print(\"agatha_killed:\", agatha_killed.value())\n",
        "  print(\"butler_killed:\", butler_killed.value())\n",
        "  print(\"charles_killed:\", charles_killed.value())\n",
        "else:\n",
        "  print(\"No solution found\")"
      ],
      "metadata": {
        "colab": {
          "base_uri": "https://localhost:8080/"
        },
        "id": "USHCO5jf2vJa",
        "outputId": "b735b5fc-e667-46ab-b6d1-5a8f162dd885"
      },
      "execution_count": 151,
      "outputs": [
        {
          "output_type": "stream",
          "name": "stdout",
          "text": [
            "Solution found\n",
            "agatha_killed: True\n",
            "butler_killed: False\n",
            "charles_killed: False\n"
          ]
        }
      ]
    },
    {
      "cell_type": "markdown",
      "source": [
        "**Langford's number problem.**\n",
        "Arrange 2 sets of positive integers 1..k to a sequence, such that, following the first\n",
        "occurence of an integer i, each subsequent occurrence of i, appears i+1 indices later than\n",
        "the last. For example, for k=4, a solution would be 41312432."
      ],
      "metadata": {
        "id": "rwuy0XzlYM0E"
      }
    },
    {
      "cell_type": "code",
      "source": [
        "k=4\n",
        "n=2*k\n",
        "\n",
        "numbers = cp.intvar(1, k, shape=8)\n",
        "\n",
        "model=cp.Model()\n",
        "\n",
        "#Every number 2 times at maximum\n",
        "for i in range(1,k+1):\n",
        "  model += cp.Count(numbers, i) == 2\n",
        "\n",
        "# Constraint: Langford sequence rules\n",
        "for num in range(1, k + 1):\n",
        "    # Positions for the two occurrences of 'num'\n",
        "    pos1 = cp.intvar(0, n - 1)\n",
        "    pos2 = cp.intvar(0, n)\n",
        "    model += (pos2 - pos1 == num + 1)  # Gap constraint\n",
        "    model += (pos1 < pos2)  # Ensure order\n",
        "    model += (numbers[pos1] == num)  # First occurrence\n",
        "    model += (numbers[pos2] == num)  # Second occurrence\n",
        "\n",
        "if model.solve():\n",
        "  print(\"Solution found\")\n",
        "  print(\"numbers:\", numbers.value())\n",
        "else:\n",
        "  print(\"No solution found\")"
      ],
      "metadata": {
        "colab": {
          "base_uri": "https://localhost:8080/"
        },
        "id": "viGPUFB8qJ8c",
        "outputId": "e68883d4-94bb-4f05-ed4f-9ecaa1b5377e"
      },
      "execution_count": 71,
      "outputs": [
        {
          "output_type": "stream",
          "name": "stdout",
          "text": [
            "Solution found\n",
            "numbers: [2 3 4 2 1 3 1 4]\n"
          ]
        }
      ]
    },
    {
      "cell_type": "markdown",
      "source": [
        "For the well-known graph coloring problem you need to assign colors to the nodes in a graph, such\n",
        "that no two adjacent nodes (connected by an edge) have the same color.\n",
        "1. Complete the following model to find the minimal number of colors for coloring the graph.\n",
        "\n",
        "Note that the values of the parameters correspond to a graph with 4 nodes and the 3 edges (an\n",
        "edge between node 1 and 2, another between 2 and 3 and another between node 2 and 4).\n",
        "\n"
      ],
      "metadata": {
        "id": "0m3pF3XAedQ2"
      }
    },
    {
      "cell_type": "code",
      "source": [
        "num_nodes = 4\n",
        "edges = [(1,2), (2,3), (2,4)]\n",
        "max_colors = num_nodes\n",
        "nodecolors = cp.intvar(1, max_colors, shape=num_nodes)\n",
        "\n",
        "model=cp.Model()\n",
        "\n",
        "for nodes in edges:\n",
        "  model += nodecolors[nodes[0]-1]!=nodecolors[nodes[1]-1]\n",
        "\n",
        "model.minimize(sum(nodecolors))\n",
        "\n",
        "if model.solve():\n",
        "  print(\"Solution found\")\n",
        "  print(\"nodecolors:\", nodecolors.value())\n",
        "else:\n",
        "  print(\"No solution found\")"
      ],
      "metadata": {
        "colab": {
          "base_uri": "https://localhost:8080/"
        },
        "id": "7VWDi8TSee3X",
        "outputId": "da5acb7d-f682-45ea-d1d8-ae48537465c3"
      },
      "execution_count": null,
      "outputs": [
        {
          "output_type": "stream",
          "name": "stdout",
          "text": [
            "Solution found\n",
            "nodecolors: [1 2 1 1]\n"
          ]
        }
      ]
    },
    {
      "cell_type": "markdown",
      "source": [
        "Consider a variant of this problem. Given the nodes and a minimal coloring, find the edges of\n",
        "a graph such that this is a valid coloring of that graph. Also consider that self-loops and duplicate\n",
        "edges are not allowed."
      ],
      "metadata": {
        "id": "j-CCXvQ0y3x6"
      }
    },
    {
      "cell_type": "code",
      "source": [
        "num_nodes = 4\n",
        "num_edges = 3\n",
        "max_colors = num_nodes\n",
        "nodecolors = [1,2,1,2]\n",
        "edges = cp.intvar(1, num_nodes, shape=(num_edges, 2))\n",
        "\n",
        "nodecolors = cp.cpm_array(nodecolors)\n",
        "\n",
        "model=cp.Model()\n",
        "\n",
        "for nodes in edges:\n",
        "  model += nodecolors[nodes[0]-1]!=nodecolors[nodes[1]-1]\n",
        "\n",
        "#not self edge\n",
        "for nodes in edges:\n",
        "  model += nodes[0]!=nodes[1]\n",
        "\n",
        "#no duplicate\n",
        "for i in range(num_edges):\n",
        "    for j in range(i + 1, num_edges):\n",
        "        # Ensure edges are not the same in both orientations\n",
        "        model += (edges[i, 0] != edges[j, 0]) | (edges[i, 1] != edges[j, 1])\n",
        "        model += (edges[i, 0] != edges[j, 1]) | (edges[i, 1] != edges[j, 0])\n",
        "\n",
        "if model.solve():\n",
        "  print(\"Solution found\")\n",
        "  print(\"edges:\", edges.value())\n",
        "else:\n",
        "  print(\"No solution found\")"
      ],
      "metadata": {
        "colab": {
          "base_uri": "https://localhost:8080/"
        },
        "id": "GqKIIjM1h5hw",
        "outputId": "51e1e95e-8237-47a8-824f-8e7f602940b8"
      },
      "execution_count": 97,
      "outputs": [
        {
          "output_type": "stream",
          "name": "stdout",
          "text": [
            "Solution found\n",
            "edges: [[1 4]\n",
            " [3 2]\n",
            " [1 2]]\n"
          ]
        }
      ]
    }
  ],
  "metadata": {
    "kernelspec": {
      "display_name": "Python 3",
      "language": "python",
      "name": "python3"
    },
    "language_info": {
      "codemirror_mode": {
        "name": "ipython",
        "version": 2
      },
      "file_extension": ".py",
      "mimetype": "text/x-python",
      "name": "python",
      "nbconvert_exporter": "python",
      "pygments_lexer": "ipython2",
      "version": "2.7.6"
    },
    "colab": {
      "provenance": []
    }
  },
  "nbformat": 4,
  "nbformat_minor": 0
}